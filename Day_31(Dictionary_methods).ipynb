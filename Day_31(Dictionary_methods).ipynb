{
 "cells": [
  {
   "cell_type": "code",
   "execution_count": 1,
   "id": "031206b7",
   "metadata": {},
   "outputs": [],
   "source": [
    "import os"
   ]
  },
  {
   "cell_type": "code",
   "execution_count": 2,
   "id": "d7c15ded",
   "metadata": {},
   "outputs": [
    {
     "data": {
      "text/plain": [
       "'C:\\\\Users\\\\karan\\\\Data_Science(Course)'"
      ]
     },
     "execution_count": 2,
     "metadata": {},
     "output_type": "execute_result"
    }
   ],
   "source": [
    "os.get cwd()"
   ]
  },
  {
   "cell_type": "markdown",
   "id": "6cfa84ba",
   "metadata": {},
   "source": [
    "**dictionary methods**"
   ]
  },
  {
   "cell_type": "code",
   "execution_count": 3,
   "id": "88d30a07",
   "metadata": {},
   "outputs": [
    {
     "data": {
      "text/plain": [
       "['__class__',\n",
       " '__class_getitem__',\n",
       " '__contains__',\n",
       " '__delattr__',\n",
       " '__delitem__',\n",
       " '__dir__',\n",
       " '__doc__',\n",
       " '__eq__',\n",
       " '__format__',\n",
       " '__ge__',\n",
       " '__getattribute__',\n",
       " '__getitem__',\n",
       " '__getstate__',\n",
       " '__gt__',\n",
       " '__hash__',\n",
       " '__init__',\n",
       " '__init_subclass__',\n",
       " '__ior__',\n",
       " '__iter__',\n",
       " '__le__',\n",
       " '__len__',\n",
       " '__lt__',\n",
       " '__ne__',\n",
       " '__new__',\n",
       " '__or__',\n",
       " '__reduce__',\n",
       " '__reduce_ex__',\n",
       " '__repr__',\n",
       " '__reversed__',\n",
       " '__ror__',\n",
       " '__setattr__',\n",
       " '__setitem__',\n",
       " '__sizeof__',\n",
       " '__str__',\n",
       " '__subclasshook__',\n",
       " 'clear',\n",
       " 'copy',\n",
       " 'fromkeys',\n",
       " 'get',\n",
       " 'items',\n",
       " 'keys',\n",
       " 'pop',\n",
       " 'popitem',\n",
       " 'setdefault',\n",
       " 'update',\n",
       " 'values']"
      ]
     },
     "execution_count": 3,
     "metadata": {},
     "output_type": "execute_result"
    }
   ],
   "source": [
    "dir({})"
   ]
  },
  {
   "cell_type": "markdown",
   "id": "be5ba496",
   "metadata": {},
   "source": [
    "$Items-keys-values$"
   ]
  },
  {
   "cell_type": "code",
   "execution_count": 4,
   "id": "5a5cb3b1",
   "metadata": {},
   "outputs": [
    {
     "data": {
      "text/plain": [
       "25"
      ]
     },
     "execution_count": 4,
     "metadata": {},
     "output_type": "execute_result"
    }
   ],
   "source": [
    "d1={'Ram':25,      \n",
    "    'Raheem': 30,\n",
    "    'Robert':35}\n",
    "\n",
    "d1[\"Ram\"]"
   ]
  },
  {
   "cell_type": "code",
   "execution_count": 8,
   "id": "d08f58c7",
   "metadata": {},
   "outputs": [
    {
     "data": {
      "text/plain": [
       "dict_items"
      ]
     },
     "execution_count": 8,
     "metadata": {},
     "output_type": "execute_result"
    }
   ],
   "source": [
    "type(d1.items())"
   ]
  },
  {
   "cell_type": "code",
   "execution_count": 9,
   "id": "9a5cda6e",
   "metadata": {},
   "outputs": [
    {
     "data": {
      "text/plain": [
       "dict_keys"
      ]
     },
     "execution_count": 9,
     "metadata": {},
     "output_type": "execute_result"
    }
   ],
   "source": [
    "type(d1.keys())"
   ]
  },
  {
   "cell_type": "code",
   "execution_count": 13,
   "id": "b02c4e5a",
   "metadata": {},
   "outputs": [],
   "source": [
    "value=d1.values()"
   ]
  },
  {
   "cell_type": "code",
   "execution_count": 11,
   "id": "81ac26eb",
   "metadata": {},
   "outputs": [
    {
     "data": {
      "text/plain": [
       "dict"
      ]
     },
     "execution_count": 11,
     "metadata": {},
     "output_type": "execute_result"
    }
   ],
   "source": [
    "type(d1)"
   ]
  },
  {
   "cell_type": "code",
   "execution_count": 14,
   "id": "10f9df1f",
   "metadata": {},
   "outputs": [
    {
     "data": {
      "text/plain": [
       "[25, 30, 35]"
      ]
     },
     "execution_count": 14,
     "metadata": {},
     "output_type": "execute_result"
    }
   ],
   "source": [
    "list(value)"
   ]
  },
  {
   "cell_type": "code",
   "execution_count": 15,
   "id": "50bb4e1d",
   "metadata": {},
   "outputs": [],
   "source": [
    "d1={'Ram':25,      \n",
    "    'Raheem': 30,\n",
    "    'Robert':35}\n",
    "\n",
    "keys=list(d1.keys())\n",
    "values=list(d1.values())\n"
   ]
  },
  {
   "cell_type": "code",
   "execution_count": 18,
   "id": "04710b1e",
   "metadata": {},
   "outputs": [
    {
     "data": {
      "text/plain": [
       "{'Keys': ['Ram', 'Raheem', 'Robert'], 'values': [25, 30, 35]}"
      ]
     },
     "execution_count": 18,
     "metadata": {},
     "output_type": "execute_result"
    }
   ],
   "source": [
    "dict2={}\n",
    "dict2[\"Keys\"]=keys\n",
    "dict2[\"values\"]=values\n",
    "dict2"
   ]
  },
  {
   "cell_type": "code",
   "execution_count": 4,
   "id": "c63e4f54",
   "metadata": {},
   "outputs": [
    {
     "data": {
      "text/plain": [
       "{'keys': ['Ram', 'Raheem', 'Robert'], 'values': [25, 30, 35]}"
      ]
     },
     "execution_count": 4,
     "metadata": {},
     "output_type": "execute_result"
    }
   ],
   "source": [
    "dict3={}\n",
    "l1=[]\n",
    "l2=[]\n",
    "d1={'Ram':25,      \n",
    "    'Raheem': 30,\n",
    "    'Robert':35}\n",
    "key=d1.keys()\n",
    "value=d1.values()\n",
    "for i,j in zip(key,value):\n",
    "    l1.append(i)\n",
    "    l2.append(j)\n",
    "    dict3[\"keys\"]=l1\n",
    "    dict3[\"values\"]=l2\n",
    "dict3"
   ]
  },
  {
   "cell_type": "code",
   "execution_count": 28,
   "id": "c430eb6a",
   "metadata": {},
   "outputs": [
    {
     "data": {
      "text/plain": [
       "{'Ram': 25, 'Raheem': 30, 'Robert': 35}"
      ]
     },
     "execution_count": 28,
     "metadata": {},
     "output_type": "execute_result"
    }
   ],
   "source": [
    "dict1={}\n",
    "for i in range(len(keys)):\n",
    "    dict1[keys[i]]=values[i]\n",
    "    \n",
    "dict1"
   ]
  },
  {
   "cell_type": "code",
   "execution_count": 29,
   "id": "c43c4786",
   "metadata": {},
   "outputs": [
    {
     "data": {
      "text/plain": [
       "{'Ram': 25, 'Raheem': 30, 'Robert': 35}"
      ]
     },
     "execution_count": 29,
     "metadata": {},
     "output_type": "execute_result"
    }
   ],
   "source": [
    "dict(zip(keys,values))"
   ]
  },
  {
   "cell_type": "code",
   "execution_count": 48,
   "id": "38cbce34",
   "metadata": {},
   "outputs": [
    {
     "name": "stdout",
     "output_type": "stream",
     "text": [
      "virat.kohli@blr.com Rohit.sharma@mumbai.com kl.rahul@luknow.com\n"
     ]
    }
   ],
   "source": [
    "s1='virat.kohli@blr.com,Rohit.sharma@mumbai.com,kl.rahul@luknow.com'\n",
    "n1=s1.index(\",\")\n",
    "n2=s1.index(\",\",n1+1)\n",
    "na1=s1[0:n1]\n",
    "na2=s1[n1+1:n2]\n",
    "na3=s1[n2+1:len(s1)+1]\n",
    "name1=[na1:na1.index('.')]\n"
   ]
  },
  {
   "cell_type": "code",
   "execution_count": 53,
   "id": "9467349c",
   "metadata": {},
   "outputs": [
    {
     "data": {
      "text/plain": [
       "{'first_name': ['virat', 'Rohit', 'kl'],\n",
       " 'second_name': ['kohli', 'sharma', 'rahul'],\n",
       " 'company': ['blr', 'mumbai', 'luknow']}"
      ]
     },
     "execution_count": 53,
     "metadata": {},
     "output_type": "execute_result"
    }
   ],
   "source": [
    "s1='virat.kohli@blr.com,Rohit.sharma@mumbai.com,kl.rahul@luknow.com'\n",
    "l1=s1.split(',')\n",
    "d1={}\n",
    "first_name=[]\n",
    "second_name=[]\n",
    "company=[]\n",
    "for i in l1:\n",
    "    first_name.append(i[0:i.find('.')])\n",
    "    second_name.append(i[i.find('.')+1:i.find('@')])\n",
    "    company.append(i[i.find('@')+1:i.find('.',i.find('.')+1)])\n",
    "    \n",
    "d1[\"first_name\"]=first_name\n",
    "d1[\"second_name\"]=second_name\n",
    "d1[\"company\"]=company\n",
    "d1"
   ]
  },
  {
   "cell_type": "code",
   "execution_count": 58,
   "id": "1f8183b1",
   "metadata": {},
   "outputs": [
    {
     "data": {
      "text/plain": [
       "{'can': 4, 'you': 2, 'canner': 2, 'able': 1, 'to': 1}"
      ]
     },
     "execution_count": 58,
     "metadata": {},
     "output_type": "execute_result"
    }
   ],
   "source": [
    "str1='can can you canner can you able to can canner'\n",
    "l1=str1.split()\n",
    "d2={}\n",
    "for i in l1:\n",
    "    d2[i]=l1.count(i)\n",
    "d2"
   ]
  },
  {
   "cell_type": "code",
   "execution_count": null,
   "id": "1b728e84",
   "metadata": {},
   "outputs": [],
   "source": [
    "list.index()"
   ]
  },
  {
   "cell_type": "code",
   "execution_count": 59,
   "id": "4f94ee20",
   "metadata": {},
   "outputs": [
    {
     "data": {
      "text/plain": [
       "'first_name'"
      ]
     },
     "execution_count": 59,
     "metadata": {},
     "output_type": "execute_result"
    }
   ],
   "source": [
    "list(d1.keys())[list(d1.values()).index(max(list(d1.values())))]"
   ]
  },
  {
   "cell_type": "code",
   "execution_count": 67,
   "id": "cb203b0c",
   "metadata": {},
   "outputs": [
    {
     "data": {
      "text/plain": [
       "0"
      ]
     },
     "execution_count": 67,
     "metadata": {},
     "output_type": "execute_result"
    }
   ],
   "source": [
    "list(d1.values()).index(max(list(d1.values())))"
   ]
  },
  {
   "cell_type": "code",
   "execution_count": 66,
   "id": "cf14fa52",
   "metadata": {},
   "outputs": [
    {
     "data": {
      "text/plain": [
       "[['virat', 'Rohit', 'kl'],\n",
       " ['kohli', 'sharma', 'rahul'],\n",
       " ['blr', 'mumbai', 'luknow']]"
      ]
     },
     "execution_count": 66,
     "metadata": {},
     "output_type": "execute_result"
    }
   ],
   "source": [
    "list(d1.values())"
   ]
  },
  {
   "cell_type": "code",
   "execution_count": 68,
   "id": "6654ad0a",
   "metadata": {},
   "outputs": [
    {
     "data": {
      "text/plain": [
       "dict_keys(['first_name', 'second_name', 'company'])"
      ]
     },
     "execution_count": 68,
     "metadata": {},
     "output_type": "execute_result"
    }
   ],
   "source": [
    "d1.keys()"
   ]
  },
  {
   "cell_type": "code",
   "execution_count": 80,
   "id": "b4a34e0e",
   "metadata": {},
   "outputs": [
    {
     "data": {
      "text/plain": [
       "{'a': 70, 'b': 130, 'c': 240}"
      ]
     },
     "execution_count": 80,
     "metadata": {},
     "output_type": "execute_result"
    }
   ],
   "source": [
    "d1={'a':20,'b':30,'c':40}\n",
    "d2={'a':50,'b':100,'c':200}\n",
    "d3={}\n",
    "for i in d1:\n",
    "    d3[i]=d1[i]+d2[i]\n",
    "d3"
   ]
  },
  {
   "cell_type": "code",
   "execution_count": 85,
   "id": "84ee98a2",
   "metadata": {},
   "outputs": [
    {
     "data": {
      "text/plain": [
       "20"
      ]
     },
     "execution_count": 85,
     "metadata": {},
     "output_type": "execute_result"
    }
   ],
   "source": [
    "(d1)['a']"
   ]
  },
  {
   "cell_type": "code",
   "execution_count": 76,
   "id": "67f9aaef",
   "metadata": {},
   "outputs": [
    {
     "ename": "ValueError",
     "evalue": "invalid literal for int() with base 10: 'dict_values([50, 100, 200])'",
     "output_type": "error",
     "traceback": [
      "\u001b[1;31m---------------------------------------------------------------------------\u001b[0m",
      "\u001b[1;31mValueError\u001b[0m                                Traceback (most recent call last)",
      "Cell \u001b[1;32mIn[76], line 1\u001b[0m\n\u001b[1;32m----> 1\u001b[0m \u001b[38;5;28mint\u001b[39m(\u001b[38;5;28mstr\u001b[39m(d2\u001b[38;5;241m.\u001b[39mvalues()))\u001b[38;5;241m+\u001b[39m\u001b[38;5;241m20\u001b[39m\n",
      "\u001b[1;31mValueError\u001b[0m: invalid literal for int() with base 10: 'dict_values([50, 100, 200])'"
     ]
    }
   ],
   "source": [
    "int(str(d2.values()))+20"
   ]
  },
  {
   "cell_type": "code",
   "execution_count": 2,
   "id": "cefdd205",
   "metadata": {},
   "outputs": [
    {
     "data": {
      "text/plain": [
       "{}"
      ]
     },
     "execution_count": 2,
     "metadata": {},
     "output_type": "execute_result"
    }
   ],
   "source": [
    "d1={'Ram':25,      \n",
    "    'Raheem': 30,\n",
    "    'Robert':35}\n",
    "d1.clear()\n",
    "d1"
   ]
  },
  {
   "cell_type": "code",
   "execution_count": 3,
   "id": "aef043b3",
   "metadata": {},
   "outputs": [
    {
     "data": {
      "text/plain": [
       "({}, {'Ram': 25, 'Raheem': 30, 'Robert': 35})"
      ]
     },
     "execution_count": 3,
     "metadata": {},
     "output_type": "execute_result"
    }
   ],
   "source": [
    "d1={'Ram':25,      \n",
    "    'Raheem': 30,\n",
    "    'Robert':35}\n",
    "d2=d1.copy()\n",
    "d1.clear()\n",
    "d1,d2"
   ]
  },
  {
   "cell_type": "markdown",
   "id": "5c2eccb3",
   "metadata": {},
   "source": [
    "$pop-popitems-del$"
   ]
  },
  {
   "cell_type": "markdown",
   "id": "88451221",
   "metadata": {},
   "source": [
    " - What is pop\n",
    " \n",
    "    - pop will remove specific key\n",
    "    \n",
    "    - return value\n",
    "    \n",
    "- what is popitem\n",
    "\n",
    "    - remove the last value default\n",
    "    \n",
    "    - return the pair\n",
    "    \n",
    "- What is del\n",
    "\n",
    "    - del is a keyword\n",
    "    \n",
    "    - it can delete an item by providing specific key"
   ]
  },
  {
   "cell_type": "code",
   "execution_count": 20,
   "id": "1b81d686",
   "metadata": {},
   "outputs": [],
   "source": [
    "d1={'Ram':25,      \n",
    "    'Raheem': 30,\n",
    "    'Robert':35}\n",
    "#d1.pop('Robert')"
   ]
  },
  {
   "cell_type": "code",
   "execution_count": 9,
   "id": "81e81a73",
   "metadata": {},
   "outputs": [
    {
     "data": {
      "text/plain": [
       "[20, 30, 40]"
      ]
     },
     "execution_count": 9,
     "metadata": {},
     "output_type": "execute_result"
    }
   ],
   "source": [
    "list1=[10,20,30,40]\n",
    "list1.pop(0)\n",
    "list1"
   ]
  },
  {
   "cell_type": "code",
   "execution_count": 19,
   "id": "29266f85",
   "metadata": {},
   "outputs": [
    {
     "data": {
      "text/plain": [
       "('Ram', 25)"
      ]
     },
     "execution_count": 19,
     "metadata": {},
     "output_type": "execute_result"
    }
   ],
   "source": [
    "d1.popitem()"
   ]
  },
  {
   "cell_type": "code",
   "execution_count": 21,
   "id": "f5e7f923",
   "metadata": {},
   "outputs": [],
   "source": [
    "del(d1)"
   ]
  },
  {
   "cell_type": "code",
   "execution_count": 23,
   "id": "f42d89cc",
   "metadata": {},
   "outputs": [],
   "source": [
    "d1={'a':50,'b':100,'c':200}\n",
    "del d1['a']"
   ]
  },
  {
   "cell_type": "code",
   "execution_count": 24,
   "id": "f26a4a4f",
   "metadata": {},
   "outputs": [
    {
     "data": {
      "text/plain": [
       "{'b': 100, 'c': 200}"
      ]
     },
     "execution_count": 24,
     "metadata": {},
     "output_type": "execute_result"
    }
   ],
   "source": [
    "d1"
   ]
  },
  {
   "cell_type": "code",
   "execution_count": 29,
   "id": "727d23d3",
   "metadata": {},
   "outputs": [
    {
     "data": {
      "text/plain": [
       "{'b': 2, 'c': 3}"
      ]
     },
     "execution_count": 29,
     "metadata": {},
     "output_type": "execute_result"
    }
   ],
   "source": [
    "d1={'a':1,'b':2,'c':3,'a':4}\n",
    "del d1['a']\n",
    "d1"
   ]
  },
  {
   "cell_type": "markdown",
   "id": "fdb162aa",
   "metadata": {},
   "source": [
    "$fromkeys-get$"
   ]
  },
  {
   "cell_type": "code",
   "execution_count": 32,
   "id": "a87a1ac9",
   "metadata": {},
   "outputs": [
    {
     "data": {
      "text/plain": [
       "100"
      ]
     },
     "execution_count": 32,
     "metadata": {},
     "output_type": "execute_result"
    }
   ],
   "source": [
    "d1={'a':50,'b':100,'c':200}\n",
    "d1.get('b')"
   ]
  },
  {
   "cell_type": "code",
   "execution_count": 55,
   "id": "91fecbd0",
   "metadata": {},
   "outputs": [],
   "source": [
    "d1={'Ram':25,      \n",
    "    'Raheem': 30,\n",
    "    'Robert':35}\n",
    "#d2=d1.fromkeys('Robert',500)"
   ]
  },
  {
   "cell_type": "code",
   "execution_count": 43,
   "id": "73177704",
   "metadata": {},
   "outputs": [
    {
     "data": {
      "text/plain": [
       "{'R': 500, 'o': 500, 'b': 500, 'e': 500, 'r': 500, 't': 500}"
      ]
     },
     "execution_count": 43,
     "metadata": {},
     "output_type": "execute_result"
    }
   ],
   "source": [
    "d2"
   ]
  },
  {
   "cell_type": "code",
   "execution_count": 47,
   "id": "e93cb197",
   "metadata": {},
   "outputs": [
    {
     "data": {
      "text/plain": [
       "{10: 'A', 20: 'A', 30: 'A', 40: 'A'}"
      ]
     },
     "execution_count": 47,
     "metadata": {},
     "output_type": "execute_result"
    }
   ],
   "source": [
    "list1=[10,20,30,40]\n",
    "d3={}.fromkeys(list1,'A')\n",
    "d3"
   ]
  },
  {
   "cell_type": "code",
   "execution_count": 52,
   "id": "1563a744",
   "metadata": {},
   "outputs": [
    {
     "data": {
      "text/plain": [
       "{'Ram': 25, 'Raheem': 30, 'Robert': 35, 'noob': 35}"
      ]
     },
     "execution_count": 52,
     "metadata": {},
     "output_type": "execute_result"
    }
   ],
   "source": [
    "d1.setdefault('Ram',35)\n",
    "d1"
   ]
  },
  {
   "cell_type": "code",
   "execution_count": 59,
   "id": "e2308e66",
   "metadata": {},
   "outputs": [
    {
     "data": {
      "text/plain": [
       "{'Ram': 45, 'Raheem': 30, 'Robert': 35}"
      ]
     },
     "execution_count": 59,
     "metadata": {},
     "output_type": "execute_result"
    }
   ],
   "source": [
    "d1.setdefault('Ram',35)\n",
    "d1['Ram']=45\n",
    "d1"
   ]
  },
  {
   "cell_type": "code",
   "execution_count": 57,
   "id": "51f846fc",
   "metadata": {},
   "outputs": [
    {
     "ename": "KeyError",
     "evalue": "'city'",
     "output_type": "error",
     "traceback": [
      "\u001b[1;31m---------------------------------------------------------------------------\u001b[0m",
      "\u001b[1;31mKeyError\u001b[0m                                  Traceback (most recent call last)",
      "Cell \u001b[1;32mIn[57], line 1\u001b[0m\n\u001b[1;32m----> 1\u001b[0m d1[\u001b[38;5;124m'\u001b[39m\u001b[38;5;124mcity\u001b[39m\u001b[38;5;124m'\u001b[39m]\n",
      "\u001b[1;31mKeyError\u001b[0m: 'city'"
     ]
    }
   ],
   "source": [
    "d1['city']"
   ]
  },
  {
   "cell_type": "code",
   "execution_count": 60,
   "id": "28b827ee",
   "metadata": {},
   "outputs": [
    {
     "data": {
      "text/plain": [
       "{'Ram': 45, 'Raheem': 30, 'Robert': 35}"
      ]
     },
     "execution_count": 60,
     "metadata": {},
     "output_type": "execute_result"
    }
   ],
   "source": [
    "d1={'Ram':25,      \n",
    "    'Raheem': 30,\n",
    "    'Robert':35,'Ram':45}\n",
    "d1"
   ]
  },
  {
   "cell_type": "code",
   "execution_count": 64,
   "id": "df203a7a",
   "metadata": {},
   "outputs": [
    {
     "ename": "TypeError",
     "evalue": "unsupported operand type(s) for ** or pow(): 'list' and 'str'",
     "output_type": "error",
     "traceback": [
      "\u001b[1;31m---------------------------------------------------------------------------\u001b[0m",
      "\u001b[1;31mTypeError\u001b[0m                                 Traceback (most recent call last)",
      "Cell \u001b[1;32mIn[64], line 1\u001b[0m\n\u001b[1;32m----> 1\u001b[0m d1\u001b[38;5;241m.\u001b[39mupdate([\u001b[38;5;124m'\u001b[39m\u001b[38;5;124mE\u001b[39m\u001b[38;5;124m'\u001b[39m,]\u001b[38;5;241m*\u001b[39m\u001b[38;5;241m*\u001b[39m\u001b[38;5;124m'\u001b[39m\u001b[38;5;124mF\u001b[39m\u001b[38;5;124m'\u001b[39m)\n",
      "\u001b[1;31mTypeError\u001b[0m: unsupported operand type(s) for ** or pow(): 'list' and 'str'"
     ]
    }
   ],
   "source": [
    "d1.update(d2)"
   ]
  },
  {
   "cell_type": "code",
   "execution_count": 73,
   "id": "96437638",
   "metadata": {},
   "outputs": [
    {
     "data": {
      "text/plain": [
       "{'a': 100, 'b': 30, 'c': 40, 'e': 50, 'd': 200}"
      ]
     },
     "execution_count": 73,
     "metadata": {},
     "output_type": "execute_result"
    }
   ],
   "source": [
    "d1={'a':20,'b':30,'c':40}\n",
    "d2={'e':50,'a':100,'d':200}\n",
    "d1.update(d2) # Similar to the extend method of list\n",
    "d1"
   ]
  },
  {
   "cell_type": "code",
   "execution_count": 77,
   "id": "f4ebf6d1",
   "metadata": {},
   "outputs": [
    {
     "data": {
      "text/plain": [
       "{1: 2, 4: 5}"
      ]
     },
     "execution_count": 77,
     "metadata": {},
     "output_type": "execute_result"
    }
   ],
   "source": [
    "t1=[(1,2),(4,5)]\n",
    "d1={}\n",
    "d1.update(t1)\n",
    "d1"
   ]
  },
  {
   "cell_type": "code",
   "execution_count": 86,
   "id": "9e1d7967",
   "metadata": {},
   "outputs": [
    {
     "name": "stdout",
     "output_type": "stream",
     "text": [
      "<class 'tuple'>\n"
     ]
    },
    {
     "data": {
      "text/plain": [
       "['__add__',\n",
       " '__class__',\n",
       " '__class_getitem__',\n",
       " '__contains__',\n",
       " '__delattr__',\n",
       " '__dir__',\n",
       " '__doc__',\n",
       " '__eq__',\n",
       " '__format__',\n",
       " '__ge__',\n",
       " '__getattribute__',\n",
       " '__getitem__',\n",
       " '__getnewargs__',\n",
       " '__getstate__',\n",
       " '__gt__',\n",
       " '__hash__',\n",
       " '__init__',\n",
       " '__init_subclass__',\n",
       " '__iter__',\n",
       " '__le__',\n",
       " '__len__',\n",
       " '__lt__',\n",
       " '__mul__',\n",
       " '__ne__',\n",
       " '__new__',\n",
       " '__reduce__',\n",
       " '__reduce_ex__',\n",
       " '__repr__',\n",
       " '__rmul__',\n",
       " '__setattr__',\n",
       " '__sizeof__',\n",
       " '__str__',\n",
       " '__subclasshook__',\n",
       " 'count',\n",
       " 'index']"
      ]
     },
     "execution_count": 86,
     "metadata": {},
     "output_type": "execute_result"
    }
   ],
   "source": [
    "d1=(1,2,5,4)\n",
    "print(type(d1))\n",
    "dir(d1)"
   ]
  },
  {
   "cell_type": "code",
   "execution_count": null,
   "id": "74ab638e",
   "metadata": {},
   "outputs": [],
   "source": []
  }
 ],
 "metadata": {
  "kernelspec": {
   "display_name": "Python 3 (ipykernel)",
   "language": "python",
   "name": "python3"
  },
  "language_info": {
   "codemirror_mode": {
    "name": "ipython",
    "version": 3
   },
   "file_extension": ".py",
   "mimetype": "text/x-python",
   "name": "python",
   "nbconvert_exporter": "python",
   "pygments_lexer": "ipython3",
   "version": "3.11.5"
  }
 },
 "nbformat": 4,
 "nbformat_minor": 5
}
