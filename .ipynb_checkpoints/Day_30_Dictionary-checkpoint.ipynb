{
 "cells": [
  {
   "cell_type": "code",
   "execution_count": null,
   "id": "04512028",
   "metadata": {},
   "outputs": [],
   "source": [
    "# Hiii! How are You."
   ]
  },
  {
   "cell_type": "code",
   "execution_count": 1,
   "id": "030f2822",
   "metadata": {},
   "outputs": [],
   "source": [
    "# Day_29_Nothing"
   ]
  },
  {
   "cell_type": "code",
   "execution_count": 3,
   "id": "03867e0e",
   "metadata": {},
   "outputs": [
    {
     "name": "stdout",
     "output_type": "stream",
     "text": [
      "Ram has age 25.\n",
      "Raheem has age 30.\n",
      "Robert has age 35.\n"
     ]
    }
   ],
   "source": [
    "list1=['Ram','Raheem','Robert']\n",
    "list2=[25,30,35]\n",
    "for i,j in zip(list1,list2):\n",
    "    print(f\"{i} has age {j}.\")"
   ]
  },
  {
   "cell_type": "markdown",
   "id": "3a1fc01b",
   "metadata": {},
   "source": [
    "- {key:value} Every keyword or methods have their own pair.like list has \"[]\", methods has (),etc."
   ]
  },
  {
   "cell_type": "code",
   "execution_count": 4,
   "id": "ef0ee719",
   "metadata": {},
   "outputs": [
    {
     "data": {
      "text/plain": [
       "{'Ram': 25, 'Raheem': 30, 'Robert': 35}"
      ]
     },
     "execution_count": 4,
     "metadata": {},
     "output_type": "execute_result"
    }
   ],
   "source": [
    "d1={'Ram':25,'Raheem': 30,'Robert':35}\n",
    "d1"
   ]
  },
  {
   "cell_type": "code",
   "execution_count": 6,
   "id": "1acf7b3f",
   "metadata": {},
   "outputs": [
    {
     "data": {
      "text/plain": [
       "{25: 'Ram', 30: 'Raheem', 35: 'Robert'}"
      ]
     },
     "execution_count": 6,
     "metadata": {},
     "output_type": "execute_result"
    }
   ],
   "source": [
    "d2={25:'Ram',30:'Raheem',35:'Robert'}\n",
    "d2"
   ]
  },
  {
   "cell_type": "code",
   "execution_count": 10,
   "id": "fdaf6978",
   "metadata": {},
   "outputs": [
    {
     "data": {
      "text/plain": [
       "{'even': [2, 4, 6], 'odd': [1, 3, 5]}"
      ]
     },
     "execution_count": 10,
     "metadata": {},
     "output_type": "execute_result"
    }
   ],
   "source": [
    "d3={'even':[2,4,6],\n",
    "   'odd':[1,3,5]}\n",
    "d3"
   ]
  },
  {
   "cell_type": "code",
   "execution_count": 11,
   "id": "8ab63283",
   "metadata": {},
   "outputs": [
    {
     "ename": "TypeError",
     "evalue": "unhashable type: 'list'",
     "output_type": "error",
     "traceback": [
      "\u001b[1;31m---------------------------------------------------------------------------\u001b[0m",
      "\u001b[1;31mTypeError\u001b[0m                                 Traceback (most recent call last)",
      "Cell \u001b[1;32mIn[11], line 1\u001b[0m\n\u001b[1;32m----> 1\u001b[0m d3\u001b[38;5;241m=\u001b[39m{[\u001b[38;5;241m2\u001b[39m,\u001b[38;5;241m4\u001b[39m,\u001b[38;5;241m6\u001b[39m]:\u001b[38;5;124m'\u001b[39m\u001b[38;5;124meven\u001b[39m\u001b[38;5;124m'\u001b[39m,\n\u001b[0;32m      2\u001b[0m    [\u001b[38;5;241m1\u001b[39m,\u001b[38;5;241m3\u001b[39m,\u001b[38;5;241m5\u001b[39m]:\u001b[38;5;124m'\u001b[39m\u001b[38;5;124modd\u001b[39m\u001b[38;5;124m'\u001b[39m}\n\u001b[0;32m      3\u001b[0m d3\n",
      "\u001b[1;31mTypeError\u001b[0m: unhashable type: 'list'"
     ]
    }
   ],
   "source": [
    "#List failed in \"dict\"\n",
    "d3={[2,4,6]:'even',\n",
    "   [1,3,5]:'odd'}\n",
    "d3"
   ]
  },
  {
   "cell_type": "code",
   "execution_count": 12,
   "id": "a1a8c5f5",
   "metadata": {},
   "outputs": [
    {
     "data": {
      "text/plain": [
       "{(2, 4, 6): 'even', (1, 3, 5): 'odd'}"
      ]
     },
     "execution_count": 12,
     "metadata": {},
     "output_type": "execute_result"
    }
   ],
   "source": [
    "d3={(2,4,6):'even',   # list is failing but tuple is not\n",
    "   (1,3,5):'odd'}\n",
    "d3"
   ]
  },
  {
   "cell_type": "code",
   "execution_count": 13,
   "id": "8f08c62d",
   "metadata": {},
   "outputs": [
    {
     "data": {
      "text/plain": [
       "{'item_ list': {'fruits': 'Apple'}}"
      ]
     },
     "execution_count": 13,
     "metadata": {},
     "output_type": "execute_result"
    }
   ],
   "source": [
    "#dict in dict \"Proved\"\n",
    "d5={'item_ list':{\"fruits\": \"Apple\"}}\n",
    "d5"
   ]
  },
  {
   "cell_type": "code",
   "execution_count": 16,
   "id": "883f9584",
   "metadata": {},
   "outputs": [
    {
     "ename": "TypeError",
     "evalue": "unhashable type: 'dict'",
     "output_type": "error",
     "traceback": [
      "\u001b[1;31m---------------------------------------------------------------------------\u001b[0m",
      "\u001b[1;31mTypeError\u001b[0m                                 Traceback (most recent call last)",
      "Cell \u001b[1;32mIn[16], line 1\u001b[0m\n\u001b[1;32m----> 1\u001b[0m d6\u001b[38;5;241m=\u001b[39m{{\u001b[38;5;124m\"\u001b[39m\u001b[38;5;124mfruits\u001b[39m\u001b[38;5;124m\"\u001b[39m: \u001b[38;5;124m\"\u001b[39m\u001b[38;5;124mApple\u001b[39m\u001b[38;5;124m\"\u001b[39m}: \u001b[38;5;124m'\u001b[39m\u001b[38;5;124mitem_ list\u001b[39m\u001b[38;5;124m'\u001b[39m}\n\u001b[0;32m      2\u001b[0m d6\n",
      "\u001b[1;31mTypeError\u001b[0m: unhashable type: 'dict'"
     ]
    }
   ],
   "source": [
    "#dict in dict \"Failed\"\n",
    "d6={{\"fruits\": \"Apple\"}: 'item_ list'}\n",
    "d6"
   ]
  },
  {
   "cell_type": "code",
   "execution_count": 20,
   "id": "54496f14",
   "metadata": {},
   "outputs": [
    {
     "data": {
      "text/plain": [
       "{'Apple': ' '}"
      ]
     },
     "execution_count": 20,
     "metadata": {},
     "output_type": "execute_result"
    }
   ],
   "source": [
    "d7={\"Apple\": \" \"}\n",
    "d7"
   ]
  },
  {
   "cell_type": "code",
   "execution_count": 27,
   "id": "3e9eb9f8",
   "metadata": {},
   "outputs": [
    {
     "name": "stdout",
     "output_type": "stream",
     "text": [
      "(1,2,1,2)\n"
     ]
    }
   ],
   "source": [
    "a,b=[1,2]\n",
    "c,d=(1,2)\n",
    "print(f\"({a},{b},{c},{d})\")"
   ]
  },
  {
   "cell_type": "code",
   "execution_count": 28,
   "id": "bd7212ba",
   "metadata": {},
   "outputs": [
    {
     "data": {
      "text/plain": [
       "(1, 2)"
      ]
     },
     "execution_count": 28,
     "metadata": {},
     "output_type": "execute_result"
    }
   ],
   "source": [
    "a=1,2\n",
    "a"
   ]
  },
  {
   "cell_type": "markdown",
   "id": "b0a45259",
   "metadata": {},
   "source": [
    "- Dictionary is a key:value pair\n",
    "- at values position you can take any data type\n",
    "- at keys position list and dictionary wil fail\n",
    "- duplicates are not allowed\n",
    "- If you will update a key value,latest value will take"
   ]
  },
  {
   "cell_type": "code",
   "execution_count": 30,
   "id": "c409472a",
   "metadata": {},
   "outputs": [
    {
     "data": {
      "text/plain": [
       "{'A': 1, 'B': 2}"
      ]
     },
     "execution_count": 30,
     "metadata": {},
     "output_type": "execute_result"
    }
   ],
   "source": [
    "d1={\"A\":1,'B':2,'A':1}\n",
    "d1"
   ]
  },
  {
   "cell_type": "code",
   "execution_count": 31,
   "id": "0d21ba76",
   "metadata": {},
   "outputs": [
    {
     "data": {
      "text/plain": [
       "{'A': 3, 'B': 2}"
      ]
     },
     "execution_count": 31,
     "metadata": {},
     "output_type": "execute_result"
    }
   ],
   "source": [
    "d1={\"A\":1,'B':2,'A':3}\n",
    "d1"
   ]
  },
  {
   "cell_type": "code",
   "execution_count": 2,
   "id": "f290ca0d",
   "metadata": {},
   "outputs": [
    {
     "data": {
      "text/plain": [
       "'Robert'"
      ]
     },
     "execution_count": 2,
     "metadata": {},
     "output_type": "execute_result"
    }
   ],
   "source": [
    "d1={'Ram':25,'Raheem': 30,'Robert':35}\n",
    "max(d1)"
   ]
  },
  {
   "cell_type": "markdown",
   "id": "71471048",
   "metadata": {},
   "source": [
    "- Maximum and minimum vlaue based on the key only"
   ]
  },
  {
   "cell_type": "code",
   "execution_count": 3,
   "id": "bec3ba0f",
   "metadata": {},
   "outputs": [
    {
     "data": {
      "text/plain": [
       "'Raheem'"
      ]
     },
     "execution_count": 3,
     "metadata": {},
     "output_type": "execute_result"
    }
   ],
   "source": [
    "min(d1)"
   ]
  },
  {
   "cell_type": "code",
   "execution_count": 10,
   "id": "9edfac2d",
   "metadata": {},
   "outputs": [
    {
     "ename": "TypeError",
     "evalue": "unsupported operand type(s) for +: 'int' and 'str'",
     "output_type": "error",
     "traceback": [
      "\u001b[1;31m---------------------------------------------------------------------------\u001b[0m",
      "\u001b[1;31mTypeError\u001b[0m                                 Traceback (most recent call last)",
      "Cell \u001b[1;32mIn[10], line 2\u001b[0m\n\u001b[0;32m      1\u001b[0m \u001b[38;5;28mlen\u001b[39m(d1)\n\u001b[1;32m----> 2\u001b[0m \u001b[38;5;28msum\u001b[39m(d1)\n",
      "\u001b[1;31mTypeError\u001b[0m: unsupported operand type(s) for +: 'int' and 'str'"
     ]
    }
   ],
   "source": [
    "len(d1)\n",
    "sum(d1) #error "
   ]
  },
  {
   "cell_type": "code",
   "execution_count": 8,
   "id": "c7ba743d",
   "metadata": {},
   "outputs": [
    {
     "data": {
      "text/plain": [
       "4"
      ]
     },
     "execution_count": 8,
     "metadata": {},
     "output_type": "execute_result"
    }
   ],
   "source": [
    "d2={1:2,3:4}\n",
    "sum(d2)"
   ]
  },
  {
   "cell_type": "code",
   "execution_count": 9,
   "id": "c8f7f575",
   "metadata": {},
   "outputs": [
    {
     "ename": "TypeError",
     "evalue": "unsupported operand type(s) for +: 'int' and 'tuple'",
     "output_type": "error",
     "traceback": [
      "\u001b[1;31m---------------------------------------------------------------------------\u001b[0m",
      "\u001b[1;31mTypeError\u001b[0m                                 Traceback (most recent call last)",
      "Cell \u001b[1;32mIn[9], line 3\u001b[0m\n\u001b[0;32m      1\u001b[0m d3\u001b[38;5;241m=\u001b[39m{(\u001b[38;5;241m2\u001b[39m,\u001b[38;5;241m4\u001b[39m,\u001b[38;5;241m6\u001b[39m):\u001b[38;5;124m'\u001b[39m\u001b[38;5;124meven\u001b[39m\u001b[38;5;124m'\u001b[39m,   \u001b[38;5;66;03m# list is failing but tuple is not\u001b[39;00m\n\u001b[0;32m      2\u001b[0m    (\u001b[38;5;241m1\u001b[39m,\u001b[38;5;241m3\u001b[39m,\u001b[38;5;241m5\u001b[39m):\u001b[38;5;124m'\u001b[39m\u001b[38;5;124modd\u001b[39m\u001b[38;5;124m'\u001b[39m}\n\u001b[1;32m----> 3\u001b[0m \u001b[38;5;28msum\u001b[39m(d3)\n",
      "\u001b[1;31mTypeError\u001b[0m: unsupported operand type(s) for +: 'int' and 'tuple'"
     ]
    }
   ],
   "source": [
    "d3={(2,4,6):'even',   # list is failing but tuple is not\n",
    "   (1,3,5):'odd'}\n",
    "sum(d3)"
   ]
  },
  {
   "cell_type": "markdown",
   "id": "68a0c30a",
   "metadata": {},
   "source": [
    "- if key has numeric value then we can sum it up"
   ]
  },
  {
   "cell_type": "markdown",
   "id": "c2d4c29e",
   "metadata": {},
   "source": [
    "$in$"
   ]
  },
  {
   "cell_type": "code",
   "execution_count": 7,
   "id": "b3de1f4a",
   "metadata": {},
   "outputs": [
    {
     "name": "stdout",
     "output_type": "stream",
     "text": [
      "Ram\n",
      "It Works!\n",
      "Raheem\n",
      "No!\n",
      "Robert\n",
      "No!\n"
     ]
    }
   ],
   "source": [
    "d1={'Ram':25,      # whenever you iterate the dictionary\n",
    "    'Raheem': 30,# only key values will come not the value part\n",
    "    'Robert':35}\n",
    "for i in d1:\n",
    "    print(i)\n",
    "    if d1[i]==25:\n",
    "        print(\"It Works!\")\n",
    "    else:\n",
    "        print(\"No!\")"
   ]
  },
  {
   "cell_type": "code",
   "execution_count": 6,
   "id": "8413b7cb",
   "metadata": {},
   "outputs": [
    {
     "data": {
      "text/plain": [
       "25"
      ]
     },
     "execution_count": 6,
     "metadata": {},
     "output_type": "execute_result"
    }
   ],
   "source": [
    "d1[\"Ram\"]"
   ]
  },
  {
   "cell_type": "markdown",
   "id": "e46a8f96",
   "metadata": {},
   "source": [
    "$index$"
   ]
  },
  {
   "cell_type": "code",
   "execution_count": 15,
   "id": "47f57ba1",
   "metadata": {},
   "outputs": [
    {
     "data": {
      "text/plain": [
       "'A'"
      ]
     },
     "execution_count": 15,
     "metadata": {},
     "output_type": "execute_result"
    }
   ],
   "source": [
    "l1=[10,20,30,40]\n",
    "l1[0]\n",
    "str1='Apple'\n",
    "str1[0]"
   ]
  },
  {
   "cell_type": "code",
   "execution_count": 20,
   "id": "3dc09989",
   "metadata": {},
   "outputs": [
    {
     "name": "stdout",
     "output_type": "stream",
     "text": [
      "The age of Ram is 25\n",
      "The age of Raheem is 30\n",
      "The age of Robert is 35\n"
     ]
    }
   ],
   "source": [
    "d1={'Ram':25,      \n",
    "    'Raheem': 30,\n",
    "    'Robert':35}\n",
    "\n",
    "d1[\"Ram\"]\n",
    "for i in d1:\n",
    "    print(f\"The age of {i} is {d1[i]}\")"
   ]
  },
  {
   "cell_type": "code",
   "execution_count": 23,
   "id": "df0b87b8",
   "metadata": {},
   "outputs": [
    {
     "name": "stdout",
     "output_type": "stream",
     "text": [
      "0 10\n",
      "1 20\n",
      "2 30\n",
      "3 40\n"
     ]
    }
   ],
   "source": [
    "for i in range(len(l1)):\n",
    "    print(i,l1[i])"
   ]
  },
  {
   "cell_type": "code",
   "execution_count": 24,
   "id": "3f2d5cf5",
   "metadata": {},
   "outputs": [
    {
     "data": {
      "text/plain": [
       "3"
      ]
     },
     "execution_count": 24,
     "metadata": {},
     "output_type": "execute_result"
    }
   ],
   "source": [
    "len(d1)"
   ]
  },
  {
   "cell_type": "code",
   "execution_count": 25,
   "id": "4d25bedd",
   "metadata": {},
   "outputs": [
    {
     "ename": "KeyError",
     "evalue": "0",
     "output_type": "error",
     "traceback": [
      "\u001b[1;31m---------------------------------------------------------------------------\u001b[0m",
      "\u001b[1;31mKeyError\u001b[0m                                  Traceback (most recent call last)",
      "Cell \u001b[1;32mIn[25], line 2\u001b[0m\n\u001b[0;32m      1\u001b[0m \u001b[38;5;28;01mfor\u001b[39;00m i \u001b[38;5;129;01min\u001b[39;00m \u001b[38;5;28mrange\u001b[39m(\u001b[38;5;28mlen\u001b[39m(d1)):\n\u001b[1;32m----> 2\u001b[0m     \u001b[38;5;28mprint\u001b[39m(i,d1[i])\n",
      "\u001b[1;31mKeyError\u001b[0m: 0"
     ]
    }
   ],
   "source": [
    "for i in range(len(d1)):\n",
    "    print(i,d1[i])"
   ]
  },
  {
   "cell_type": "markdown",
   "id": "f3e3590b",
   "metadata": {},
   "source": [
    "### Creating a empty dictionary and update"
   ]
  },
  {
   "cell_type": "code",
   "execution_count": 27,
   "id": "5df616d3",
   "metadata": {},
   "outputs": [
    {
     "data": {
      "text/plain": [
       "{'fruite': 'Apple'}"
      ]
     },
     "execution_count": 27,
     "metadata": {},
     "output_type": "execute_result"
    }
   ],
   "source": [
    "d1={}\n",
    "d1[\"fruite\"]=\"Apple\" # Updating the dictionary\n",
    "d1"
   ]
  },
  {
   "cell_type": "code",
   "execution_count": 29,
   "id": "1bff3a94",
   "metadata": {},
   "outputs": [
    {
     "data": {
      "text/plain": [
       "{'Name': 'Karan Bagarti',\n",
       " 'Occupation': 'Student',\n",
       " 'Studying At': 'CUTM',\n",
       " 'State': 'Odisha'}"
      ]
     },
     "execution_count": 29,
     "metadata": {},
     "output_type": "execute_result"
    }
   ],
   "source": [
    "dictionary={}\n",
    "dictionary[\"Name\"]=\"Karan Bagarti\"\n",
    "dictionary[\"Occupation\"]=\"Student\"\n",
    "dictionary[\"Studying At\"]=\"CUTM\"\n",
    "dictionary[\"State\"]=\"Odisha\"\n",
    "dictionary"
   ]
  },
  {
   "cell_type": "code",
   "execution_count": 32,
   "id": "7595ae96",
   "metadata": {},
   "outputs": [
    {
     "data": {
      "text/plain": [
       "{'Ram': '20', 'Raheem': '30', 'Robert': '35'}"
      ]
     },
     "execution_count": 32,
     "metadata": {},
     "output_type": "execute_result"
    }
   ],
   "source": [
    "d1={}\n",
    "d1[\"Ram\"]=\"20\"\n",
    "d1[\"Raheem\"]=\"30\"\n",
    "d1[\"Robert\"]=\"35\"\n",
    "d1"
   ]
  },
  {
   "cell_type": "code",
   "execution_count": 33,
   "id": "69171c46",
   "metadata": {},
   "outputs": [
    {
     "data": {
      "text/plain": [
       "{'Ram': 25, 'Raheem': 30, 'Robert': 35}"
      ]
     },
     "execution_count": 33,
     "metadata": {},
     "output_type": "execute_result"
    }
   ],
   "source": [
    "name={'Ram','Raheem','Robert'}\n",
    "age=[25,30,35]\n",
    "dict1={}\n",
    "for i,j in zip(name,age):\n",
    "    dict1[i]=j\n",
    "dict1"
   ]
  },
  {
   "cell_type": "code",
   "execution_count": 48,
   "id": "94cfad02",
   "metadata": {
    "scrolled": true
   },
   "outputs": [
    {
     "name": "stdout",
     "output_type": "stream",
     "text": [
      "('Ram', 25)\n",
      "('Raheem', 30)\n",
      "('Robert', 35)\n"
     ]
    }
   ],
   "source": [
    "name={'Ram','Raheem','Robert'}\n",
    "age=[25,30,35]\n",
    "dict1=zip(name,age)\n",
    "for i in dict1:\n",
    "    print(i)"
   ]
  },
  {
   "cell_type": "code",
   "execution_count": 47,
   "id": "6709d862",
   "metadata": {
    "scrolled": true
   },
   "outputs": [
    {
     "data": {
      "text/plain": [
       "{'Ram': 25, 'Raheem': 30, 'Robert': 35}"
      ]
     },
     "execution_count": 47,
     "metadata": {},
     "output_type": "execute_result"
    }
   ],
   "source": [
    "dict1={name:age for name,age in zip(name,age)}\n",
    "dict1"
   ]
  },
  {
   "cell_type": "code",
   "execution_count": 46,
   "id": "c21d3f48",
   "metadata": {},
   "outputs": [
    {
     "data": {
      "text/plain": [
       "{'even': [22, 22], 'odd': [21, 23, 19]}"
      ]
     },
     "execution_count": 46,
     "metadata": {},
     "output_type": "execute_result"
    }
   ],
   "source": [
    "import random\n",
    "dict3={}\n",
    "even=[]\n",
    "odd=[]\n",
    "for i in range(5):\n",
    "    num=random.randint(19,24)\n",
    "    if num%2==0:\n",
    "        even.append(num)\n",
    "    else:\n",
    "        odd.append(num)\n",
    "dict3[\"even\"]=even\n",
    "dict3[\"odd\"]=odd\n",
    "dict3"
   ]
  },
  {
   "cell_type": "code",
   "execution_count": null,
   "id": "b233c034",
   "metadata": {},
   "outputs": [],
   "source": []
  }
 ],
 "metadata": {
  "kernelspec": {
   "display_name": "Python 3 (ipykernel)",
   "language": "python",
   "name": "python3"
  },
  "language_info": {
   "codemirror_mode": {
    "name": "ipython",
    "version": 3
   },
   "file_extension": ".py",
   "mimetype": "text/x-python",
   "name": "python",
   "nbconvert_exporter": "python",
   "pygments_lexer": "ipython3",
   "version": "3.11.5"
  }
 },
 "nbformat": 4,
 "nbformat_minor": 5
}
